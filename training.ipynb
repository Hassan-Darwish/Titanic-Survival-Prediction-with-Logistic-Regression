{
 "cells": [
  {
   "cell_type": "code",
   "execution_count": 1,
   "id": "976d3cb0",
   "metadata": {},
   "outputs": [],
   "source": [
    "import numpy as np\n",
    "import pandas as pd"
   ]
  },
  {
   "cell_type": "code",
   "execution_count": 2,
   "id": "8e60e2e7",
   "metadata": {},
   "outputs": [
    {
     "data": {
      "text/html": [
       "<div>\n",
       "<style scoped>\n",
       "    .dataframe tbody tr th:only-of-type {\n",
       "        vertical-align: middle;\n",
       "    }\n",
       "\n",
       "    .dataframe tbody tr th {\n",
       "        vertical-align: top;\n",
       "    }\n",
       "\n",
       "    .dataframe thead th {\n",
       "        text-align: right;\n",
       "    }\n",
       "</style>\n",
       "<table border=\"1\" class=\"dataframe\">\n",
       "  <thead>\n",
       "    <tr style=\"text-align: right;\">\n",
       "      <th></th>\n",
       "      <th>PassengerId</th>\n",
       "      <th>Survived</th>\n",
       "      <th>Pclass</th>\n",
       "      <th>Sex</th>\n",
       "      <th>Age</th>\n",
       "      <th>Fare</th>\n",
       "      <th>FamilySize</th>\n",
       "      <th>Embarked_C</th>\n",
       "      <th>Embarked_Q</th>\n",
       "      <th>Embarked_S</th>\n",
       "    </tr>\n",
       "  </thead>\n",
       "  <tbody>\n",
       "    <tr>\n",
       "      <th>0</th>\n",
       "      <td>1</td>\n",
       "      <td>0</td>\n",
       "      <td>1.0</td>\n",
       "      <td>1</td>\n",
       "      <td>0.271174</td>\n",
       "      <td>0.014151</td>\n",
       "      <td>0.1</td>\n",
       "      <td>0</td>\n",
       "      <td>0</td>\n",
       "      <td>1</td>\n",
       "    </tr>\n",
       "    <tr>\n",
       "      <th>1</th>\n",
       "      <td>2</td>\n",
       "      <td>1</td>\n",
       "      <td>0.0</td>\n",
       "      <td>0</td>\n",
       "      <td>0.472229</td>\n",
       "      <td>0.139136</td>\n",
       "      <td>0.1</td>\n",
       "      <td>1</td>\n",
       "      <td>0</td>\n",
       "      <td>0</td>\n",
       "    </tr>\n",
       "    <tr>\n",
       "      <th>2</th>\n",
       "      <td>3</td>\n",
       "      <td>1</td>\n",
       "      <td>1.0</td>\n",
       "      <td>0</td>\n",
       "      <td>0.321438</td>\n",
       "      <td>0.015469</td>\n",
       "      <td>0.0</td>\n",
       "      <td>0</td>\n",
       "      <td>0</td>\n",
       "      <td>1</td>\n",
       "    </tr>\n",
       "    <tr>\n",
       "      <th>3</th>\n",
       "      <td>4</td>\n",
       "      <td>1</td>\n",
       "      <td>0.0</td>\n",
       "      <td>0</td>\n",
       "      <td>0.434531</td>\n",
       "      <td>0.103644</td>\n",
       "      <td>0.1</td>\n",
       "      <td>0</td>\n",
       "      <td>0</td>\n",
       "      <td>1</td>\n",
       "    </tr>\n",
       "    <tr>\n",
       "      <th>4</th>\n",
       "      <td>5</td>\n",
       "      <td>0</td>\n",
       "      <td>1.0</td>\n",
       "      <td>1</td>\n",
       "      <td>0.434531</td>\n",
       "      <td>0.015713</td>\n",
       "      <td>0.0</td>\n",
       "      <td>0</td>\n",
       "      <td>0</td>\n",
       "      <td>1</td>\n",
       "    </tr>\n",
       "  </tbody>\n",
       "</table>\n",
       "</div>"
      ],
      "text/plain": [
       "   PassengerId  Survived  Pclass  Sex       Age      Fare  FamilySize  \\\n",
       "0            1         0     1.0    1  0.271174  0.014151         0.1   \n",
       "1            2         1     0.0    0  0.472229  0.139136         0.1   \n",
       "2            3         1     1.0    0  0.321438  0.015469         0.0   \n",
       "3            4         1     0.0    0  0.434531  0.103644         0.1   \n",
       "4            5         0     1.0    1  0.434531  0.015713         0.0   \n",
       "\n",
       "   Embarked_C  Embarked_Q  Embarked_S  \n",
       "0           0           0           1  \n",
       "1           1           0           0  \n",
       "2           0           0           1  \n",
       "3           0           0           1  \n",
       "4           0           0           1  "
      ]
     },
     "execution_count": 2,
     "metadata": {},
     "output_type": "execute_result"
    }
   ],
   "source": [
    "training_set = pd.read_csv('train_cleaned.csv')\n",
    "testing_set = pd.read_csv('test_cleaned.csv')\n",
    "training_set.head()\n"
   ]
  },
  {
   "cell_type": "code",
   "execution_count": 3,
   "id": "2c0aa265",
   "metadata": {},
   "outputs": [],
   "source": [
    "training_targets = training_set['Survived']\n",
    "training_passengerID = training_set['PassengerId']\n",
    "\n",
    "testing_passengerID = testing_set['PassengerId']\n",
    "\n",
    "training_set.drop(['Survived'], axis=1, inplace=True)\n",
    "for series in (training_set, testing_set):\n",
    "    series.drop(['PassengerId'], axis=1, inplace=True)\n"
   ]
  },
  {
   "cell_type": "code",
   "execution_count": 4,
   "id": "1c772d8f",
   "metadata": {},
   "outputs": [
    {
     "data": {
      "text/html": [
       "<div>\n",
       "<style scoped>\n",
       "    .dataframe tbody tr th:only-of-type {\n",
       "        vertical-align: middle;\n",
       "    }\n",
       "\n",
       "    .dataframe tbody tr th {\n",
       "        vertical-align: top;\n",
       "    }\n",
       "\n",
       "    .dataframe thead th {\n",
       "        text-align: right;\n",
       "    }\n",
       "</style>\n",
       "<table border=\"1\" class=\"dataframe\">\n",
       "  <thead>\n",
       "    <tr style=\"text-align: right;\">\n",
       "      <th></th>\n",
       "      <th>Pclass</th>\n",
       "      <th>Sex</th>\n",
       "      <th>Age</th>\n",
       "      <th>Fare</th>\n",
       "      <th>FamilySize</th>\n",
       "      <th>Embarked_C</th>\n",
       "      <th>Embarked_Q</th>\n",
       "      <th>Embarked_S</th>\n",
       "    </tr>\n",
       "  </thead>\n",
       "  <tbody>\n",
       "    <tr>\n",
       "      <th>0</th>\n",
       "      <td>1.0</td>\n",
       "      <td>1</td>\n",
       "      <td>0.452723</td>\n",
       "      <td>0.015282</td>\n",
       "      <td>0.0</td>\n",
       "      <td>0</td>\n",
       "      <td>1</td>\n",
       "      <td>0</td>\n",
       "    </tr>\n",
       "    <tr>\n",
       "      <th>1</th>\n",
       "      <td>1.0</td>\n",
       "      <td>0</td>\n",
       "      <td>0.617566</td>\n",
       "      <td>0.013663</td>\n",
       "      <td>0.1</td>\n",
       "      <td>0</td>\n",
       "      <td>0</td>\n",
       "      <td>1</td>\n",
       "    </tr>\n",
       "    <tr>\n",
       "      <th>2</th>\n",
       "      <td>0.5</td>\n",
       "      <td>1</td>\n",
       "      <td>0.815377</td>\n",
       "      <td>0.018909</td>\n",
       "      <td>0.0</td>\n",
       "      <td>0</td>\n",
       "      <td>1</td>\n",
       "      <td>0</td>\n",
       "    </tr>\n",
       "    <tr>\n",
       "      <th>3</th>\n",
       "      <td>1.0</td>\n",
       "      <td>1</td>\n",
       "      <td>0.353818</td>\n",
       "      <td>0.016908</td>\n",
       "      <td>0.0</td>\n",
       "      <td>0</td>\n",
       "      <td>0</td>\n",
       "      <td>1</td>\n",
       "    </tr>\n",
       "    <tr>\n",
       "      <th>4</th>\n",
       "      <td>1.0</td>\n",
       "      <td>0</td>\n",
       "      <td>0.287881</td>\n",
       "      <td>0.023984</td>\n",
       "      <td>0.2</td>\n",
       "      <td>0</td>\n",
       "      <td>0</td>\n",
       "      <td>1</td>\n",
       "    </tr>\n",
       "  </tbody>\n",
       "</table>\n",
       "</div>"
      ],
      "text/plain": [
       "   Pclass  Sex       Age      Fare  FamilySize  Embarked_C  Embarked_Q  \\\n",
       "0     1.0    1  0.452723  0.015282         0.0           0           1   \n",
       "1     1.0    0  0.617566  0.013663         0.1           0           0   \n",
       "2     0.5    1  0.815377  0.018909         0.0           0           1   \n",
       "3     1.0    1  0.353818  0.016908         0.0           0           0   \n",
       "4     1.0    0  0.287881  0.023984         0.2           0           0   \n",
       "\n",
       "   Embarked_S  \n",
       "0           0  \n",
       "1           1  \n",
       "2           0  \n",
       "3           1  \n",
       "4           1  "
      ]
     },
     "execution_count": 4,
     "metadata": {},
     "output_type": "execute_result"
    }
   ],
   "source": [
    "testing_set.head()"
   ]
  },
  {
   "cell_type": "code",
   "execution_count": 5,
   "id": "e99b488c",
   "metadata": {},
   "outputs": [],
   "source": [
    "def logistic_regression(features, targets, weights, bias, learning_rate, epochs):\n",
    "    # defining the number of training examples\n",
    "    m = features.shape[0]\n",
    "    # stay in the loop until epochs are finished\n",
    "    while epochs:\n",
    "        # the Z part of the sigmoid equation\n",
    "        linear_func = np.dot(features, weights) + bias\n",
    "        # the sigmoid equation\n",
    "        sigmoid_func =  1 / ( 1 + np.exp(-(linear_func)) )\n",
    "        # calculating current error\n",
    "        error = sigmoid_func - targets\n",
    "        # calculating new gradient decent Batch gradient decent method\n",
    "        delta_w = ( 1 / m ) * np.dot(features.T, error)\n",
    "        delta_b = ( 1 / m ) * np.sum(error)\n",
    "        \n",
    "        tmp_w = weights - ( learning_rate * delta_w )\n",
    "        tmp_b = bias - ( learning_rate * delta_b )\n",
    "\n",
    "        weights = tmp_w\n",
    "        bias = tmp_b\n",
    "\n",
    "        epochs -= 1\n",
    "\n",
    "    return ( weights, bias )"
   ]
  },
  {
   "cell_type": "code",
   "execution_count": 6,
   "id": "84ba7a2e",
   "metadata": {},
   "outputs": [],
   "source": [
    "initial_weights = np.zeros(training_set.shape[1])\n",
    "initial_bias = 0\n",
    "epochs = 10000\n",
    "learning_rate = 1"
   ]
  },
  {
   "cell_type": "code",
   "execution_count": 7,
   "id": "50ffb894",
   "metadata": {},
   "outputs": [],
   "source": [
    "(trained_w, trained_b) = logistic_regression(training_set, training_targets, initial_weights, initial_bias, learning_rate, epochs)\n"
   ]
  },
  {
   "cell_type": "code",
   "execution_count": 8,
   "id": "e7c3272c",
   "metadata": {},
   "outputs": [
    {
     "data": {
      "text/plain": [
       "array([-2.18621803, -2.74754524, -3.05844762,  1.09987017, -2.2032745 ,\n",
       "        1.15940089,  1.06646382,  0.73855558])"
      ]
     },
     "execution_count": 8,
     "metadata": {},
     "output_type": "execute_result"
    }
   ],
   "source": [
    "trained_w"
   ]
  },
  {
   "cell_type": "code",
   "execution_count": 9,
   "id": "fe7f9857",
   "metadata": {},
   "outputs": [
    {
     "data": {
      "text/plain": [
       "0      0\n",
       "1      1\n",
       "2      0\n",
       "3      0\n",
       "4      1\n",
       "      ..\n",
       "413    0\n",
       "414    1\n",
       "415    0\n",
       "416    0\n",
       "417    1\n",
       "Name: Survived, Length: 418, dtype: int64"
      ]
     },
     "execution_count": 9,
     "metadata": {},
     "output_type": "execute_result"
    }
   ],
   "source": [
    "testing_targets = pd.read_csv('test_augmented.csv')\n",
    "testing_targets = testing_targets['Survived']\n",
    "testing_targets"
   ]
  },
  {
   "cell_type": "code",
   "execution_count": 10,
   "id": "9947a062",
   "metadata": {},
   "outputs": [
    {
     "name": "stdout",
     "output_type": "stream",
     "text": [
      "Scikit-learn Model Accuracy: 0.7727272727272727\n"
     ]
    }
   ],
   "source": [
    "from sklearn.linear_model import LogisticRegression\n",
    "from sklearn.metrics import accuracy_score\n",
    "# Create an instance of the model\n",
    "log_reg = LogisticRegression()\n",
    "# Train the model\n",
    "log_reg.fit(training_set, training_targets)\n",
    "# Make predictions on the test set\n",
    "predictions = log_reg.predict(testing_set)\n",
    "# Calculate the accuracy\n",
    "accuracy = accuracy_score(testing_targets, predictions)\n",
    "\n",
    "print(f\"Scikit-learn Model Accuracy: {accuracy}\")"
   ]
  },
  {
   "cell_type": "code",
   "execution_count": 11,
   "id": "55bfc270",
   "metadata": {},
   "outputs": [
    {
     "name": "stdout",
     "output_type": "stream",
     "text": [
      "Model Accuarcy: 0.7703349282296651\n"
     ]
    }
   ],
   "source": [
    "my_predections = (1/(1 + np.exp(-(np.dot(testing_set, trained_w)+trained_b))) >= 0.5).astype(int) \n",
    "\n",
    "my_accuracy = accuracy_score(testing_targets, my_predections)\n",
    "\n",
    "print(f\"Model Accuarcy: {my_accuracy}\")"
   ]
  },
  {
   "cell_type": "code",
   "execution_count": 13,
   "id": "cb7a1583",
   "metadata": {},
   "outputs": [],
   "source": [
    "import numpy as np\n",
    "\n",
    "age_range = np.linspace(training_set['Age'].min(), training_set['Age'].max(), 300)\n",
    "# Create a temporary DataFrame with average values\n",
    "temp_df = pd.DataFrame(np.mean(training_set, axis=0).values.reshape(1, -1), columns=training_set.columns)\n",
    "temp_df = temp_df.loc[temp_df.index.repeat(len(age_range))]\n",
    "temp_df['Age'] = age_range\n",
    "\n",
    "# Manually calculate the probabilities using your trained parameters\n",
    "# 1. Calculate the linear part (z)\n",
    "z = np.dot(temp_df, trained_w) + trained_b\n",
    "\n",
    "# 2. Apply the sigmoid function\n",
    "age_probabilities = 1 / (1 + np.exp(-z))"
   ]
  },
  {
   "cell_type": "code",
   "execution_count": 14,
   "id": "0e3bb6d0",
   "metadata": {},
   "outputs": [
    {
     "data": {
      "image/png": "[encoded data removed]",
      "text/plain": [
       "<Figure size 640x480 with 1 Axes>"
      ]
     },
     "metadata": {},
     "output_type": "display_data"
    }
   ],
   "source": [
    "import matplotlib.pyplot as plt\n",
    "import seaborn as sns\n",
    "\n",
    "# Plot the actual data points\n",
    "sns.scatterplot(x=training_set['Age'], y=training_targets, alpha=0.1, label='Actual Data')\n",
    "\n",
    "# Plot your model's logistic regression curve\n",
    "plt.plot(age_range, age_probabilities, color='green', linewidth=3, label='Your Model Curve')\n",
    "\n",
    "plt.title('Your Model: Probability of Survival vs. Age')\n",
    "plt.xlabel('Age')\n",
    "plt.ylabel('Probability of Survival')\n",
    "plt.legend()\n",
    "plt.show()"
   ]
  },
  {
   "cell_type": "code",
   "execution_count": null,
   "id": "ab9b84ba",
   "metadata": {},
   "outputs": [],
   "source": []
  }
 ],
 "metadata": {
  "kernelspec": {
   "display_name": "base",
   "language": "python",
   "name": "python3"
  },
  "language_info": {
   "codemirror_mode": {
    "name": "ipython",
    "version": 3
   },
   "file_extension": ".py",
   "mimetype": "text/x-python",
   "name": "python",
   "nbconvert_exporter": "python",
   "pygments_lexer": "ipython3",
   "version": "3.10.9"
  }
 },
 "nbformat": 4,
 "nbformat_minor": 5
}
